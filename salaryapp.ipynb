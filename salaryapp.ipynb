{
 "cells": [
  {
   "cell_type": "code",
   "execution_count": null,
   "metadata": {},
   "outputs": [
    {
     "name": "stderr",
     "output_type": "stream",
     "text": [
      "C:\\Users\\91887\\Anaconda3\\lib\\site-packages\\flask_sqlalchemy\\__init__.py:834: FSADeprecationWarning: SQLALCHEMY_TRACK_MODIFICATIONS adds significant overhead and will be disabled by default in the future.  Set it to True or False to suppress this warning.\n",
      "  'SQLALCHEMY_TRACK_MODIFICATIONS adds significant overhead and '\n"
     ]
    },
    {
     "name": "stdout",
     "output_type": "stream",
     "text": [
      " * Serving Flask app \"__main__\" (lazy loading)\n",
      " * Environment: production\n",
      "   WARNING: Do not use the development server in a production environment.\n",
      "   Use a production WSGI server instead.\n",
      " * Debug mode: off\n"
     ]
    },
    {
     "name": "stderr",
     "output_type": "stream",
     "text": [
      " * Running on http://127.0.0.1:5000/ (Press CTRL+C to quit)\n",
      "127.0.0.1 - - [27/Jun/2020 16:15:38] \"GET / HTTP/1.1\" 200 -\n",
      "127.0.0.1 - - [27/Jun/2020 16:15:59] \"POST /predict HTTP/1.1\" 200 -\n"
     ]
    },
    {
     "name": "stdout",
     "output_type": "stream",
     "text": [
      "[3, 5, 3]\n",
      "[array([3, 5, 3])]\n"
     ]
    },
    {
     "name": "stderr",
     "output_type": "stream",
     "text": [
      "127.0.0.1 - - [27/Jun/2020 16:32:52] \"POST /predict HTTP/1.1\" 200 -\n"
     ]
    },
    {
     "name": "stdout",
     "output_type": "stream",
     "text": [
      "[2, 2, 6]\n",
      "[array([2, 2, 6])]\n"
     ]
    }
   ],
   "source": [
    "from flask import Flask,request, url_for, redirect, render_template\n",
    "import pickle\n",
    "from flask_sqlalchemy import SQLAlchemy\n",
    "from flask_mysqldb import MySQL\n",
    "import numpy as np\n",
    "app = Flask(__name__)\n",
    "app.config['SQLALCHEMY_DATABASE_URI'] = 'mysql://root:@localhost/salary_predition'\n",
    "db = SQLAlchemy(app)\n",
    "model = pickle.load(open('model1.pkl', 'rb'))\n",
    "class Salary_pre(db.Model):\n",
    "    sno= db.Column(db.Integer, primary_key=True)\n",
    "    fname=db.Column(db.String(20),unique=False)\n",
    "    lname=db.Column(db.String(10),unique=False)\n",
    "    db.Column(db.String(10), unique=False)\n",
    "    exp= db.Column(db.Integer,unique=False )\n",
    "    type_1= db.Column(db.Integer, unique=False)\n",
    "    score= db.Column(db.Integer,unique=False )\n",
    "\n",
    "@app.route('/')\n",
    "def home():\n",
    "    return render_template('index1.html')\n",
    "@app.route('/predict',methods=['POST'])\n",
    "def predict():\n",
    "    '''\n",
    "    For rendering results on HTML GUI\n",
    "    '''\n",
    "    if  request.method == 'POST':\n",
    "        '''Add entry to the database'''\n",
    "        fname=request.form.get('fname')\n",
    "        lname=request.form.get('lname')\n",
    "        exp= request.form.get('Experience')\n",
    "        type_1=request.form.get('Type')\n",
    "        score=request.form.get('TestScore')\n",
    "        entry = Salary_pre(fname=fname,lname=lname,exp=exp,type_1=type_1,score=score)\n",
    "        db.session.add(entry)\n",
    "        db.session.commit()\n",
    "    int_features = [x for x in request.form.values()]\n",
    "    final_features=[]\n",
    "    for i in range(len(int_features)):\n",
    "        if(i>=2):\n",
    "            final_features.append(int(int_features[i]))\n",
    "    print(final_features)  \n",
    "    final_fe = [np.array(final_features)]\n",
    "    print(final_fe)\n",
    "    prediction = model.predict(final_fe)\n",
    "\n",
    "    output = round(prediction[0], 2)\n",
    "\n",
    "    return render_template('index1.html', prediction_text='Employee Salary should be $ {}'.format(output))\n",
    "\n",
    "@app.route('/predict_api',methods=['POST'])\n",
    "def predict_api():\n",
    "    '''\n",
    "    For direct API calls trought request\n",
    "    '''\n",
    "    data = request.get_json(force=True)\n",
    "    prediction = model.predict([np.array(list(data.values()))])\n",
    "\n",
    "    output = prediction[0]\n",
    "    return jsonify(output)\n",
    "\n",
    "if __name__ == \"__main__\":\n",
    "    app.run()"
   ]
  },
  {
   "cell_type": "code",
   "execution_count": null,
   "metadata": {},
   "outputs": [],
   "source": []
  },
  {
   "cell_type": "code",
   "execution_count": null,
   "metadata": {},
   "outputs": [],
   "source": []
  },
  {
   "cell_type": "code",
   "execution_count": null,
   "metadata": {},
   "outputs": [],
   "source": []
  },
  {
   "cell_type": "code",
   "execution_count": null,
   "metadata": {},
   "outputs": [],
   "source": []
  },
  {
   "cell_type": "code",
   "execution_count": null,
   "metadata": {},
   "outputs": [],
   "source": []
  }
 ],
 "metadata": {
  "kernelspec": {
   "display_name": "Python 3",
   "language": "python",
   "name": "python3"
  },
  "language_info": {
   "codemirror_mode": {
    "name": "ipython",
    "version": 3
   },
   "file_extension": ".py",
   "mimetype": "text/x-python",
   "name": "python",
   "nbconvert_exporter": "python",
   "pygments_lexer": "ipython3",
   "version": "3.7.3"
  }
 },
 "nbformat": 4,
 "nbformat_minor": 2
}
